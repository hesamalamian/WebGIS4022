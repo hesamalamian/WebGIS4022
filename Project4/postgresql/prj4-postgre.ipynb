{
 "cells": [
  {
   "cell_type": "code",
   "execution_count": 1,
   "id": "8caa3752-99a6-4f7e-b586-09f34f731241",
   "metadata": {},
   "outputs": [],
   "source": [
    "#importing lib\n",
    "import psycopg2"
   ]
  },
  {
   "cell_type": "code",
   "execution_count": 2,
   "id": "d9cc1b79-9779-4e24-9213-76f6b68c1703",
   "metadata": {},
   "outputs": [],
   "source": [
    "#connect to DB\n",
    "connector = psycopg2.connect(database=\"prj4\", user=\"postgres\", password= \"Hesam1993\", host=\"localhost\", port=5432)"
   ]
  },
  {
   "cell_type": "code",
   "execution_count": 3,
   "id": "aa1a3232-7d36-4f1f-a936-08c6bb75ff85",
   "metadata": {},
   "outputs": [],
   "source": [
    "#cursor\n",
    "cursor = connector.cursor()"
   ]
  },
  {
   "cell_type": "code",
   "execution_count": 4,
   "id": "f10f3556-ab97-4cc8-9069-8ec7dc145a6a",
   "metadata": {},
   "outputs": [],
   "source": [
    "#Calling data from oracle\n",
    "cursor.execute('SELECT * from test')\n",
    "result = cursor.fetchall()"
   ]
  },
  {
   "cell_type": "code",
   "execution_count": 7,
   "id": "e01ac5d9-4cb5-4164-9076-3f87a439d237",
   "metadata": {},
   "outputs": [
    {
     "name": "stdout",
     "output_type": "stream",
     "text": [
      "(1, 'ali')\n",
      "(2, 'iman')\n"
     ]
    }
   ],
   "source": [
    "#printing the result\n",
    "for row in result:\n",
    "    print (row)"
   ]
  },
  {
   "cell_type": "code",
   "execution_count": 6,
   "id": "852d7163-cdcd-4a97-bd84-163a0748ca26",
   "metadata": {},
   "outputs": [],
   "source": [
    "#closing\n",
    "cursor.close()\n",
    "connector.close()"
   ]
  },
  {
   "cell_type": "code",
   "execution_count": null,
   "id": "7b956149-1768-4ea1-b75c-e500114c3bd7",
   "metadata": {},
   "outputs": [],
   "source": []
  }
 ],
 "metadata": {
  "kernelspec": {
   "display_name": "Python 3 (ipykernel)",
   "language": "python",
   "name": "python3"
  },
  "language_info": {
   "codemirror_mode": {
    "name": "ipython",
    "version": 3
   },
   "file_extension": ".py",
   "mimetype": "text/x-python",
   "name": "python",
   "nbconvert_exporter": "python",
   "pygments_lexer": "ipython3",
   "version": "3.9.7"
  }
 },
 "nbformat": 4,
 "nbformat_minor": 5
}
