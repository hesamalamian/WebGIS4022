{
 "cells": [
  {
   "cell_type": "code",
   "execution_count": 1,
   "id": "e6c05bc0-6d35-4eea-a070-fb3c131a869d",
   "metadata": {},
   "outputs": [],
   "source": [
    "#importing lib\n",
    "import cx_Oracle"
   ]
  },
  {
   "cell_type": "code",
   "execution_count": 2,
   "id": "a3a56519-0195-41df-89ab-4a707ab7a942",
   "metadata": {},
   "outputs": [],
   "source": [
    "#connect to DB\n",
    "connector = cx_Oracle.connect('System/Hesam1993@localhost:1521/orcldata')"
   ]
  },
  {
   "cell_type": "code",
   "execution_count": 3,
   "id": "10105e5e-d8cf-4e5d-b564-9b18d7b237ca",
   "metadata": {},
   "outputs": [],
   "source": [
    "#cursor\n",
    "cursor = connector.cursor()"
   ]
  },
  {
   "cell_type": "code",
   "execution_count": 4,
   "id": "94441c44-b560-47f2-b066-f9063920de93",
   "metadata": {},
   "outputs": [],
   "source": [
    "#Calling data from oracle\n",
    "cursor.execute('SELECT * from test')\n",
    "result = cursor.fetchall()"
   ]
  },
  {
   "cell_type": "code",
   "execution_count": 5,
   "id": "e18fb79a-d2a5-40ec-8cb7-547d981f6f65",
   "metadata": {},
   "outputs": [
    {
     "name": "stdout",
     "output_type": "stream",
     "text": [
      "(1, 'ali')\n",
      "(2, 'iman')\n"
     ]
    }
   ],
   "source": [
    "#printing the result\n",
    "for row in result:\n",
    "    print (row)"
   ]
  },
  {
   "cell_type": "code",
   "execution_count": 6,
   "id": "de822373-2521-4994-b398-9d3d58f0b2ca",
   "metadata": {},
   "outputs": [],
   "source": [
    "#closing\n",
    "cursor.close()\n",
    "connector.close()"
   ]
  },
  {
   "cell_type": "code",
   "execution_count": null,
   "id": "aab8b418-bef5-4a6c-b6fb-d2c0298677c8",
   "metadata": {},
   "outputs": [],
   "source": []
  }
 ],
 "metadata": {
  "kernelspec": {
   "display_name": "Python 3 (ipykernel)",
   "language": "python",
   "name": "python3"
  },
  "language_info": {
   "codemirror_mode": {
    "name": "ipython",
    "version": 3
   },
   "file_extension": ".py",
   "mimetype": "text/x-python",
   "name": "python",
   "nbconvert_exporter": "python",
   "pygments_lexer": "ipython3",
   "version": "3.9.7"
  }
 },
 "nbformat": 4,
 "nbformat_minor": 5
}
